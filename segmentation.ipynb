{
 "cells": [
  {
   "cell_type": "code",
   "execution_count": 1,
   "metadata": {},
   "outputs": [
    {
     "name": "stderr",
     "output_type": "stream",
     "text": [
      "/opt/homebrew/lib/python3.11/site-packages/torchvision/io/image.py:13: UserWarning: Failed to load image Python extension: 'dlopen(/opt/homebrew/lib/python3.11/site-packages/torchvision/image.so, 0x0006): Symbol not found: __ZN3c1017RegisterOperatorsD1Ev\n",
      "  Referenced from: <9DBE5D5C-AC87-30CA-96DA-F5BC116EDA2B> /opt/homebrew/lib/python3.11/site-packages/torchvision/image.so\n",
      "  Expected in:     <875FA374-EE9F-3A80-BF65-CF3FEE85CD27> /opt/homebrew/lib/python3.11/site-packages/torch/lib/libtorch_cpu.dylib'If you don't plan on using image functionality from `torchvision.io`, you can ignore this warning. Otherwise, there might be something wrong with your environment. Did you have `libjpeg` or `libpng` installed before building `torchvision` from source?\n",
      "  warn(\n"
     ]
    }
   ],
   "source": [
    "import os\n",
    "import torch\n",
    "import numpy as np\n",
    "import torch.nn as nn\n",
    "from random import randint\n",
    "from torch.optim import Adam\n",
    "import pandas as pd\n",
    "from torch.nn import BCELoss\n",
    "from torch.utils.data import Dataset, DataLoader\n",
    "from torchvision import transforms\n",
    "from tqdm.notebook import tqdm\n",
    "from PIL import Image\n",
    "import torch.nn.functional as F\n",
    "from torch.optim.lr_scheduler import ReduceLROnPlateau\n",
    "import matplotlib.pyplot as plt"
   ]
  },
  {
   "cell_type": "code",
   "execution_count": 2,
   "metadata": {},
   "outputs": [],
   "source": [
    "class UNet(nn.Module):\n",
    "    def __init__(self):\n",
    "        super(UNet, self).__init__()\n",
    "        \n",
    "        # Contracting path (Encoder)\n",
    "        # Standard size 128 -> 64\n",
    "\n",
    "        self.conv11 = nn.Conv2d(1, 16, kernel_size=3, padding='same')\n",
    "        self.conv12 = nn.Conv2d(16, 16, kernel_size=3, padding='same')\n",
    "        self.pool1 = nn.MaxPool2d(2, stride=2)\n",
    "\n",
    "        # Standard size 64 -> 32\n",
    "\n",
    "        self.conv21 = nn.Conv2d(16, 32, kernel_size=3, padding='same')\n",
    "        self.conv22 = nn.Conv2d(32, 32, kernel_size=3, padding='same')\n",
    "        self.pool2 = nn.MaxPool2d(2, stride=2)\n",
    "\n",
    "        # Standard size 32 -> 16\n",
    "\n",
    "        self.conv31 = nn.Conv2d(32, 64, kernel_size=3, padding='same')\n",
    "        self.conv32 = nn.Conv2d(64, 64, kernel_size=3, padding='same')\n",
    "        self.pool3 = nn.MaxPool2d(2, stride=2)\n",
    "\n",
    "        # Standard size 16 -> 8\n",
    "\n",
    "        self.conv41 = nn.Conv2d(64, 128, kernel_size=3, padding='same')\n",
    "        self.conv42 = nn.Conv2d(128, 128, kernel_size=3, padding='same')\n",
    "        self.pool4 = nn.MaxPool2d(2, stride=2)\n",
    "\n",
    "        # Middle layer\n",
    "\n",
    "        self.convM1 = nn.Conv2d(128, 256, kernel_size=3, padding='same')\n",
    "        self.convM2 = nn.Conv2d(256, 256, kernel_size=3, padding='same')\n",
    "\n",
    "        # Expanding path (Decoder)\n",
    "        # Standard size 8 -> 16\n",
    "\n",
    "        self.upconv5 = nn.ConvTranspose2d(256, 128, kernel_size=2, stride=2)\n",
    "        self.conv51 = nn.Conv2d(256, 128, kernel_size=3, padding='same')\n",
    "        self.conv52 = nn.Conv2d(128, 128, kernel_size=3, padding='same')\n",
    "\n",
    "        # Standard size 16 -> 32\n",
    "\n",
    "        self.upconv6 = nn.ConvTranspose2d(128, 64, kernel_size=2, stride=2)\n",
    "        self.conv61 = nn.Conv2d(128, 64, kernel_size=3, padding='same')\n",
    "        self.conv62 = nn.Conv2d(64, 64, kernel_size=3, padding='same')\n",
    "\n",
    "        # Standard size 32 -> 64\n",
    "\n",
    "        self.upconv7 = nn.ConvTranspose2d(64, 32, kernel_size=2, stride=2)\n",
    "        self.conv71 = nn.Conv2d(64, 32, kernel_size=3, padding='same')\n",
    "        self.conv72 = nn.Conv2d(32, 32, kernel_size=3, padding='same')\n",
    "\n",
    "        # Standard size 64 -> 128\n",
    "\n",
    "        self.upconv8 = nn.ConvTranspose2d(32, 16, kernel_size=2, stride=2)\n",
    "        self.conv81 = nn.Conv2d(32, 16, kernel_size=3, padding='same')\n",
    "        self.conv82 = nn.Conv2d(16, 16, kernel_size=3, padding='same')\n",
    "\n",
    "        self.output = nn.Conv2d(16, 1, kernel_size=1, padding='same')\n",
    "        \n",
    "    def forward(self, x):\n",
    "        # Contracting path (Encoder)\n",
    "        c11 = F.relu(self.conv11(x))\n",
    "        c12 = F.relu(self.conv12(c11))\n",
    "        p1 = self.pool1(c12)\n",
    "\n",
    "        c21 = F.relu(self.conv21(p1))\n",
    "        c22 = F.relu(self.conv22(c21))\n",
    "        p2 = self.pool2(c22)\n",
    "\n",
    "        c31 = F.relu(self.conv31(p2))\n",
    "        c32 = F.relu(self.conv32(c31))\n",
    "        p3 = self.pool3(c32)\n",
    "\n",
    "        c41 = F.relu(self.conv41(p3))\n",
    "        c42 = F.relu(self.conv42(c41))\n",
    "        p4 = self.pool4(c42)\n",
    "\n",
    "        # Middle layer\n",
    "        cM1 = F.relu(self.convM1(p4))\n",
    "        cM2 = F.relu(self.convM2(cM1))\n",
    "\n",
    "        # Expanding path (Decoder)\n",
    "        up5 = self.upconv5(cM2)\n",
    "        concat5 = torch.cat([up5, c42], 1)\n",
    "        c51 = F.relu(self.conv51(concat5))\n",
    "        c52 = F.relu(self.conv52(c51))\n",
    "\n",
    "        up6 = self.upconv6(c52)\n",
    "        concat6 = torch.cat([up6, c32], 1)\n",
    "        c61 = F.relu(self.conv61(concat6))\n",
    "        c62 = F.relu(self.conv62(c61))\n",
    "\n",
    "        up7 = self.upconv7(c62)\n",
    "        concat7 = torch.cat([up7, c22], 1)\n",
    "        c71 = F.relu(self.conv71(concat7))\n",
    "        c72 = F.relu(self.conv72(c71))\n",
    "\n",
    "        up8 = self.upconv8(c72)\n",
    "        concat8 = torch.cat([up8, c12], 1)\n",
    "        c81 = F.relu(self.conv81(concat8))\n",
    "        c82 = F.relu(self.conv82(c81))\n",
    "\n",
    "        output = torch.sigmoid(self.output(c82))\n",
    "        return output"
   ]
  },
  {
   "cell_type": "code",
   "execution_count": 3,
   "metadata": {},
   "outputs": [],
   "source": [
    "class CustomDataset(Dataset):\n",
    "    def __init__(self, ids, image_folder, mask_folder, transform=None):\n",
    "        self.ids = ids\n",
    "        self.image_folder = image_folder\n",
    "        self.mask_folder = mask_folder\n",
    "        self.transform = transform\n",
    "\n",
    "    def __len__(self):\n",
    "        return len(self.ids)\n",
    "\n",
    "    def __getitem__(self, idx):\n",
    "        img_path = os.path.join(self.image_folder, f\"{self.ids[idx]}.png\")\n",
    "        mask_path = os.path.join(self.mask_folder, f\"{self.ids[idx]}.png\")\n",
    "\n",
    "        image = Image.open(img_path).convert(\"L\") \n",
    "        mask = Image.open(mask_path).convert(\"L\")\n",
    "\n",
    "        # Resize to fit 128x128\n",
    "        target_size=(128, 128)\n",
    "        image = image.resize(target_size, Image.BILINEAR)\n",
    "        mask = mask.resize(target_size, Image.NEAREST)\n",
    "\n",
    "        if self.transform:\n",
    "            image = self.transform(image)\n",
    "            mask = self.transform(mask)\n",
    "\n",
    "        return image, mask"
   ]
  },
  {
   "cell_type": "code",
   "execution_count": 4,
   "metadata": {},
   "outputs": [],
   "source": [
    "transform = transforms.Compose([\n",
    "    transforms.ToTensor(),\n",
    "])"
   ]
  },
  {
   "cell_type": "code",
   "execution_count": 6,
   "metadata": {},
   "outputs": [],
   "source": [
    "train_img_dir = './train/images/'\n",
    "train_mask_dir = './train/masks/'\n",
    "train_ids = pd.read_csv(\"./train/train.csv\", usecols=[0]).id.values.tolist()"
   ]
  },
  {
   "cell_type": "code",
   "execution_count": 7,
   "metadata": {},
   "outputs": [],
   "source": [
    "dataset = CustomDataset(train_ids, train_img_dir, train_mask_dir, transform=transform)\n",
    "train_loader = DataLoader(dataset, batch_size=32, shuffle=True)"
   ]
  },
  {
   "cell_type": "code",
   "execution_count": 8,
   "metadata": {},
   "outputs": [],
   "source": [
    "lr = 0.001\n",
    "num_epochs = 30"
   ]
  },
  {
   "cell_type": "code",
   "execution_count": 9,
   "metadata": {},
   "outputs": [],
   "source": [
    "model = UNet()\n",
    "optimizer = Adam(model.parameters(), lr=lr)\n",
    "criterion = BCELoss()"
   ]
  },
  {
   "cell_type": "code",
   "execution_count": 12,
   "metadata": {},
   "outputs": [
    {
     "name": "stdout",
     "output_type": "stream",
     "text": [
      "mps\n"
     ]
    }
   ],
   "source": [
    "device = torch.device('mps' if torch.backends.mps.is_available() else 'cuda' if torch.cuda.is_available() else 'cpu')\n",
    "model.to(device)\n",
    "print(device)"
   ]
  },
  {
   "cell_type": "markdown",
   "metadata": {},
   "source": [
    "# Training"
   ]
  },
  {
   "cell_type": "code",
   "execution_count": 13,
   "metadata": {},
   "outputs": [
    {
     "name": "stderr",
     "output_type": "stream",
     "text": [
      "/opt/homebrew/lib/python3.11/site-packages/torch/optim/lr_scheduler.py:28: UserWarning: The verbose parameter is deprecated. Please use get_last_lr() to access the learning rate.\n",
      "  warnings.warn(\"The verbose parameter is deprecated. Please use get_last_lr() \"\n"
     ]
    },
    {
     "name": "stdout",
     "output_type": "stream",
     "text": [
      "Epoch 1/30, Training Loss: 0.5257555842399597, Validation Loss: 0.5552728161811828\n",
      "Epoch 2/30, Training Loss: 0.45414429903030396, Validation Loss: 0.5052817611694336\n",
      "Epoch 3/30, Training Loss: 0.4624602198600769, Validation Loss: 0.41996390986442567\n",
      "Epoch 4/30, Training Loss: 0.42102205753326416, Validation Loss: 0.3841505379676819\n",
      "Epoch 5/30, Training Loss: 0.34776681661605835, Validation Loss: 0.36905449640750887\n",
      "Epoch 6/30, Training Loss: 0.3480722904205322, Validation Loss: 0.3356570736169815\n",
      "Epoch 7/30, Training Loss: 0.31781700253486633, Validation Loss: 0.3395572353601456\n",
      "Epoch 8/30, Training Loss: 0.31719622015953064, Validation Loss: 0.3402299987077713\n",
      "Epoch 9/30, Training Loss: 0.3202973008155823, Validation Loss: 0.28489789390563963\n",
      "Epoch 10/30, Training Loss: 0.4619027376174927, Validation Loss: 0.2913919624090195\n",
      "Epoch 11/30, Training Loss: 0.19375036656856537, Validation Loss: 0.25662025797367094\n",
      "Epoch 12/30, Training Loss: 0.2844555974006653, Validation Loss: 0.2542035174965859\n",
      "Epoch 13/30, Training Loss: 0.27818089723587036, Validation Loss: 0.24976373815536498\n",
      "Epoch 14/30, Training Loss: 0.17695952951908112, Validation Loss: 0.21204901295900344\n",
      "Epoch 15/30, Training Loss: 0.08361520618200302, Validation Loss: 0.20317995989322662\n",
      "Epoch 16/30, Training Loss: 0.22188548743724823, Validation Loss: 0.18861130475997925\n",
      "Epoch 17/30, Training Loss: 0.15099361538887024, Validation Loss: 0.20966337430477142\n",
      "Epoch 18/30, Training Loss: 0.20238259434700012, Validation Loss: 0.19835186517238618\n",
      "Epoch 19/30, Training Loss: 0.24395586550235748, Validation Loss: 0.1891256275177002\n",
      "Epoch 20/30, Training Loss: 0.2369326651096344, Validation Loss: 0.17118920981884003\n",
      "Epoch 21/30, Training Loss: 0.1966516077518463, Validation Loss: 0.15636354523897172\n",
      "Epoch 22/30, Training Loss: 0.15681299567222595, Validation Loss: 0.17240580493211746\n",
      "Epoch 23/30, Training Loss: 0.10702401399612427, Validation Loss: 0.13398320654034615\n",
      "Epoch 24/30, Training Loss: 0.17088747024536133, Validation Loss: 0.1403372439146042\n",
      "Epoch 25/30, Training Loss: 0.09893599897623062, Validation Loss: 0.1294076918363571\n",
      "Epoch 26/30, Training Loss: 0.18277129530906677, Validation Loss: 0.12896182969212533\n",
      "Epoch 27/30, Training Loss: 0.17534160614013672, Validation Loss: 0.14125495377182962\n",
      "Epoch 28/30, Training Loss: 0.1101607158780098, Validation Loss: 0.1303641648888588\n",
      "Epoch 29/30, Training Loss: 0.08128064125776291, Validation Loss: 0.11190036979317665\n",
      "Epoch 30/30, Training Loss: 0.21205121278762817, Validation Loss: 0.09574541118741035\n"
     ]
    }
   ],
   "source": [
    "lr_scheduler = ReduceLROnPlateau(optimizer, mode='min', patience=5, factor=0.5, verbose=True)\n",
    "\n",
    "early_stopping_counter = 0\n",
    "early_stopping_patience = 10\n",
    "best_validation_loss = np.inf\n",
    "\n",
    "for epoch in range(num_epochs):\n",
    "    model.train()  # Set the model to training mode\n",
    "    for images, masks in train_loader:\n",
    "        images, masks = images.to(device), masks.to(device)\n",
    "\n",
    "        # Forward pass\n",
    "        outputs = model(images)\n",
    "        loss = criterion(outputs, masks)\n",
    "\n",
    "        # Backward pass and optimization\n",
    "        optimizer.zero_grad()\n",
    "        loss.backward()\n",
    "        optimizer.step()\n",
    "\n",
    "    # Validate the model\n",
    "    model.eval()  # Set the model to evaluation mode\n",
    "    validation_loss = 0.0\n",
    "    with torch.no_grad():\n",
    "        for val_images, val_masks in train_loader: # We will use the same dataset as the training for ease of use\n",
    "            val_images, val_masks = val_images.to(device), val_masks.to(device)\n",
    "            val_outputs = model(val_images)\n",
    "            val_loss = criterion(val_outputs, val_masks)\n",
    "            validation_loss += val_loss.item()\n",
    "\n",
    "    # Calculate average validation loss\n",
    "    validation_loss /= len(train_loader)\n",
    "\n",
    "    # Update learning rate based on validation loss\n",
    "    lr_scheduler.step(validation_loss)\n",
    "\n",
    "    print(f\"Epoch {epoch + 1}/{num_epochs}, Training Loss: {loss.item()}, Validation Loss: {validation_loss}\")\n",
    "\n",
    "    # Check for improvement in validation loss\n",
    "    if validation_loss < best_validation_loss:\n",
    "        best_validation_loss = validation_loss\n",
    "        early_stopping_counter = 0\n",
    "        # Save the model weights\n",
    "        torch.save(model.state_dict(), \"model/bestModel.pth\")\n",
    "    else:\n",
    "        early_stopping_counter += 1\n",
    "\n",
    "    # Check for early stopping\n",
    "    if early_stopping_counter >= early_stopping_patience:\n",
    "        print(\"Early stopping: Validation loss has not improved for {} consecutive epochs.\".format(early_stopping_patience))\n",
    "        break\n",
    "\n",
    "\n",
    "# Save the trained model\n",
    "torch.save(model.state_dict(), \"model/bestModel.pth\")"
   ]
  },
  {
   "cell_type": "markdown",
   "metadata": {},
   "source": [
    "# Eval"
   ]
  },
  {
   "cell_type": "code",
   "execution_count": 20,
   "metadata": {},
   "outputs": [
    {
     "data": {
      "text/plain": [
       "UNet(\n",
       "  (conv11): Conv2d(1, 16, kernel_size=(3, 3), stride=(1, 1), padding=same)\n",
       "  (conv12): Conv2d(16, 16, kernel_size=(3, 3), stride=(1, 1), padding=same)\n",
       "  (pool1): MaxPool2d(kernel_size=2, stride=2, padding=0, dilation=1, ceil_mode=False)\n",
       "  (conv21): Conv2d(16, 32, kernel_size=(3, 3), stride=(1, 1), padding=same)\n",
       "  (conv22): Conv2d(32, 32, kernel_size=(3, 3), stride=(1, 1), padding=same)\n",
       "  (pool2): MaxPool2d(kernel_size=2, stride=2, padding=0, dilation=1, ceil_mode=False)\n",
       "  (conv31): Conv2d(32, 64, kernel_size=(3, 3), stride=(1, 1), padding=same)\n",
       "  (conv32): Conv2d(64, 64, kernel_size=(3, 3), stride=(1, 1), padding=same)\n",
       "  (pool3): MaxPool2d(kernel_size=2, stride=2, padding=0, dilation=1, ceil_mode=False)\n",
       "  (conv41): Conv2d(64, 128, kernel_size=(3, 3), stride=(1, 1), padding=same)\n",
       "  (conv42): Conv2d(128, 128, kernel_size=(3, 3), stride=(1, 1), padding=same)\n",
       "  (pool4): MaxPool2d(kernel_size=2, stride=2, padding=0, dilation=1, ceil_mode=False)\n",
       "  (convM1): Conv2d(128, 256, kernel_size=(3, 3), stride=(1, 1), padding=same)\n",
       "  (convM2): Conv2d(256, 256, kernel_size=(3, 3), stride=(1, 1), padding=same)\n",
       "  (upconv5): ConvTranspose2d(256, 128, kernel_size=(2, 2), stride=(2, 2))\n",
       "  (conv51): Conv2d(256, 128, kernel_size=(3, 3), stride=(1, 1), padding=same)\n",
       "  (conv52): Conv2d(128, 128, kernel_size=(3, 3), stride=(1, 1), padding=same)\n",
       "  (upconv6): ConvTranspose2d(128, 64, kernel_size=(2, 2), stride=(2, 2))\n",
       "  (conv61): Conv2d(128, 64, kernel_size=(3, 3), stride=(1, 1), padding=same)\n",
       "  (conv62): Conv2d(64, 64, kernel_size=(3, 3), stride=(1, 1), padding=same)\n",
       "  (upconv7): ConvTranspose2d(64, 32, kernel_size=(2, 2), stride=(2, 2))\n",
       "  (conv71): Conv2d(64, 32, kernel_size=(3, 3), stride=(1, 1), padding=same)\n",
       "  (conv72): Conv2d(32, 32, kernel_size=(3, 3), stride=(1, 1), padding=same)\n",
       "  (upconv8): ConvTranspose2d(32, 16, kernel_size=(2, 2), stride=(2, 2))\n",
       "  (conv81): Conv2d(32, 16, kernel_size=(3, 3), stride=(1, 1), padding=same)\n",
       "  (conv82): Conv2d(16, 16, kernel_size=(3, 3), stride=(1, 1), padding=same)\n",
       "  (output): Conv2d(16, 1, kernel_size=(1, 1), stride=(1, 1), padding=same)\n",
       ")"
      ]
     },
     "execution_count": 20,
     "metadata": {},
     "output_type": "execute_result"
    }
   ],
   "source": [
    "model.load_state_dict(torch.load(\"model/bestModel.pth\"))\n",
    "model.eval()\n",
    "model.to(\"cpu\")"
   ]
  },
  {
   "cell_type": "code",
   "execution_count": 53,
   "metadata": {},
   "outputs": [
    {
     "data": {
      "image/png": "[encoded data removed]",
      "text/plain": [
       "<Figure size 1000x500 with 3 Axes>"
      ]
     },
     "metadata": {},
     "output_type": "display_data"
    }
   ],
   "source": [
    "# Choose picture at random \n",
    "image_number = randint(0, len(train_ids))\n",
    "image = train_ids[image_number]\n",
    "\n",
    "image_path = \"train/images/\"+image+\".png\"\n",
    "image = Image.open(image_path).convert(\"L\")  # Convert to grayscale if needed\n",
    "transform = transforms.Compose([\n",
    "    transforms.ToTensor(),\n",
    "])\n",
    "input_image = transform(image.resize((128, 128), Image.BILINEAR)).unsqueeze(0)\n",
    "\n",
    "# Forward pass to get predictions\n",
    "with torch.no_grad():\n",
    "    predictions = model(input_image)\n",
    "\n",
    "# Convert predictions to a binary mask (assuming a threshold of 0.5)\n",
    "binary_predictions = (predictions > 0.5).float()\n",
    "\n",
    "# Convert tensors to numpy arrays for visualization\n",
    "input_image_np = input_image.squeeze().numpy()\n",
    "binary_predictions_np = binary_predictions.squeeze().numpy()\n",
    "\n",
    "# Plot the original image, ground truth mask, and predicted mask\n",
    "plt.figure(figsize=(10, 5))\n",
    "\n",
    "plt.subplot(1, 3, 1)\n",
    "plt.title(\"Original Image\")\n",
    "plt.imshow(input_image_np, cmap=\"gray\")\n",
    "plt.axis(\"off\")\n",
    "\n",
    "# Ground truth visualization\n",
    "image = train_ids[image_number]\n",
    "ground_truth_mask_path = \"train/masks/\"+image+\".png\"\n",
    "ground_truth_mask = Image.open(ground_truth_mask_path).convert(\"L\")\n",
    "ground_truth_mask_np = transform(ground_truth_mask.resize((128, 128), Image.BILINEAR)).numpy()\n",
    "plt.subplot(1, 3, 2)\n",
    "plt.title(\"Ground Truth Mask\")\n",
    "plt.imshow(ground_truth_mask_np[0], cmap=\"gray\")\n",
    "plt.axis(\"off\")\n",
    "\n",
    "plt.subplot(1, 3, 3)\n",
    "plt.title(\"Predicted Mask\")\n",
    "plt.imshow(binary_predictions_np, cmap=\"gray\")\n",
    "plt.axis(\"off\")\n",
    "\n",
    "plt.show()"
   ]
  }
 ],
 "metadata": {
  "kernelspec": {
   "display_name": "Python 3",
   "language": "python",
   "name": "python3"
  },
  "language_info": {
   "codemirror_mode": {
    "name": "ipython",
    "version": 3
   },
   "file_extension": ".py",
   "mimetype": "text/x-python",
   "name": "python",
   "nbconvert_exporter": "python",
   "pygments_lexer": "ipython3",
   "version": "3.11.6"
  }
 },
 "nbformat": 4,
 "nbformat_minor": 2
}
