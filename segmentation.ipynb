{
 "cells": [
  {
   "cell_type": "code",
   "execution_count": 429,
   "metadata": {},
   "outputs": [],
   "source": [
    "import os\n",
    "import torch\n",
    "import numpy as np\n",
    "import torch.nn as nn\n",
    "from random import randint\n",
    "from torch.optim import Adam\n",
    "import pandas as pd\n",
    "from torch.nn import BCELoss\n",
    "from torch.utils.data import Dataset, DataLoader\n",
    "from torchvision import transforms\n",
    "from tqdm.notebook import tqdm\n",
    "from PIL import Image\n",
    "import torch.nn.functional as F\n",
    "from torch.optim.lr_scheduler import ReduceLROnPlateau\n",
    "import matplotlib.pyplot as plt"
   ]
  },
  {
   "cell_type": "code",
   "execution_count": 399,
   "metadata": {},
   "outputs": [],
   "source": [
    "class UNet(nn.Module):\n",
    "    def __init__(self):\n",
    "        super(UNet, self).__init__()\n",
    "        \n",
    "        # Contracting path (Encoder)\n",
    "        # Standard size 128 -> 64 custom size 101 -> 50\n",
    "\n",
    "        self.conv11 = nn.Conv2d(1, 16, kernel_size=3, padding='same')\n",
    "        self.conv12 = nn.Conv2d(16, 16, kernel_size=3, padding='same')\n",
    "        self.pool1 = nn.MaxPool2d(2, stride=2)\n",
    "\n",
    "        # Standard size 64 -> 32 custom size 50 -> 25\n",
    "\n",
    "        self.conv21 = nn.Conv2d(16, 32, kernel_size=3, padding='same')\n",
    "        self.conv22 = nn.Conv2d(32, 32, kernel_size=3, padding='same')\n",
    "        self.pool2 = nn.MaxPool2d(2, stride=2)\n",
    "\n",
    "        # Standard size 32 -> 16 custom size 25 -> 12\n",
    "\n",
    "        self.conv31 = nn.Conv2d(32, 64, kernel_size=3, padding='same')\n",
    "        self.conv32 = nn.Conv2d(64, 64, kernel_size=3, padding='same')\n",
    "        self.pool3 = nn.MaxPool2d(2, stride=2)\n",
    "\n",
    "        # Standard size 16 -> 8 custom size 12 -> 6\n",
    "\n",
    "        self.conv41 = nn.Conv2d(64, 128, kernel_size=3, padding='same')\n",
    "        self.conv42 = nn.Conv2d(128, 128, kernel_size=3, padding='same')\n",
    "        self.pool4 = nn.MaxPool2d(2, stride=2)\n",
    "\n",
    "        # Middle layer\n",
    "\n",
    "        self.convM1 = nn.Conv2d(128, 256, kernel_size=3, padding='same')\n",
    "        self.convM2 = nn.Conv2d(256, 256, kernel_size=3, padding='same')\n",
    "\n",
    "        # Expanding path (Decoder)\n",
    "        # Standard size 8 -> 16 custom size 6 -> 12\n",
    "\n",
    "        self.upconv5 = nn.ConvTranspose2d(256, 128, kernel_size=2, stride=2)\n",
    "        self.conv51 = nn.Conv2d(256, 128, kernel_size=3, padding='same')\n",
    "        self.conv52 = nn.Conv2d(128, 128, kernel_size=3, padding='same')\n",
    "\n",
    "        # Standard size 16 -> 32 custom size 12 -> 25\n",
    "\n",
    "        self.upconv6 = nn.ConvTranspose2d(128, 64, kernel_size=2, stride=2)\n",
    "        self.conv61 = nn.Conv2d(128, 64, kernel_size=3, padding='same')\n",
    "        self.conv62 = nn.Conv2d(64, 64, kernel_size=3, padding='same')\n",
    "\n",
    "        # Standard size 32 -> 64 custom size 25 -> 50\n",
    "\n",
    "        self.upconv7 = nn.ConvTranspose2d(64, 32, kernel_size=2, stride=2)\n",
    "        self.conv71 = nn.Conv2d(64, 32, kernel_size=3, padding='same')\n",
    "        self.conv72 = nn.Conv2d(32, 32, kernel_size=3, padding='same')\n",
    "\n",
    "        # Standard size 64 -> 128 custom size 50 -> 101\n",
    "\n",
    "        self.upconv8 = nn.ConvTranspose2d(32, 16, kernel_size=2, stride=2)\n",
    "        self.conv81 = nn.Conv2d(32, 16, kernel_size=3, padding='same')\n",
    "        self.conv82 = nn.Conv2d(16, 16, kernel_size=3, padding='same')\n",
    "\n",
    "        self.output = nn.Conv2d(16, 1, kernel_size=1, padding='same')\n",
    "        \n",
    "    def forward(self, x):\n",
    "        # Contracting path (Encoder)\n",
    "        c11 = F.relu(self.conv11(x))\n",
    "        c12 = F.relu(self.conv12(c11))\n",
    "        p1 = self.pool1(c12)\n",
    "\n",
    "        c21 = F.relu(self.conv21(p1))\n",
    "        c22 = F.relu(self.conv22(c21))\n",
    "        p2 = self.pool2(c22)\n",
    "\n",
    "        c31 = F.relu(self.conv31(p2))\n",
    "        c32 = F.relu(self.conv32(c31))\n",
    "        p3 = self.pool3(c32)\n",
    "\n",
    "        c41 = F.relu(self.conv41(p3))\n",
    "        c42 = F.relu(self.conv42(c41))\n",
    "        p4 = self.pool4(c42)\n",
    "\n",
    "        # Middle layer\n",
    "        cM1 = F.relu(self.convM1(p4))\n",
    "        cM2 = F.relu(self.convM2(cM1))\n",
    "\n",
    "        # Expanding path (Decoder)\n",
    "        up5 = self.upconv5(cM2)\n",
    "        concat5 = torch.cat([up5, c42], 1)\n",
    "        c51 = F.relu(self.conv51(concat5))\n",
    "        c52 = F.relu(self.conv52(c51))\n",
    "\n",
    "        up6 = self.upconv6(c52)\n",
    "        concat6 = torch.cat([up6, c32], 1)\n",
    "        c61 = F.relu(self.conv61(concat6))\n",
    "        c62 = F.relu(self.conv62(c61))\n",
    "\n",
    "        up7 = self.upconv7(c62)\n",
    "        concat7 = torch.cat([up7, c22], 1)\n",
    "        c71 = F.relu(self.conv71(concat7))\n",
    "        c72 = F.relu(self.conv72(c71))\n",
    "\n",
    "        up8 = self.upconv8(c72)\n",
    "        concat8 = torch.cat([up8, c12], 1)\n",
    "        c81 = F.relu(self.conv81(concat8))\n",
    "        c82 = F.relu(self.conv82(c81))\n",
    "\n",
    "        output = torch.sigmoid(self.output(c82))\n",
    "        return output"
   ]
  },
  {
   "cell_type": "code",
   "execution_count": 400,
   "metadata": {},
   "outputs": [],
   "source": [
    "class CustomDataset(Dataset):\n",
    "    def __init__(self, ids, image_folder, mask_folder, transform=None):\n",
    "        self.ids = ids\n",
    "        self.image_folder = image_folder\n",
    "        self.mask_folder = mask_folder\n",
    "        self.transform = transform\n",
    "\n",
    "    def __len__(self):\n",
    "        return len(self.ids)\n",
    "\n",
    "    def __getitem__(self, idx):\n",
    "        img_path = os.path.join(self.image_folder, f\"{self.ids[idx]}.png\")\n",
    "        mask_path = os.path.join(self.mask_folder, f\"{self.ids[idx]}.png\")\n",
    "\n",
    "        image = Image.open(img_path).convert(\"L\") \n",
    "        mask = Image.open(mask_path).convert(\"L\")\n",
    "\n",
    "        #Resize to fit 128x128\n",
    "        target_size=(128, 128)\n",
    "        image = image.resize(target_size, Image.BILINEAR)\n",
    "        mask = mask.resize(target_size, Image.NEAREST)\n",
    "\n",
    "        if self.transform:\n",
    "            image = self.transform(image)\n",
    "            mask = self.transform(mask)\n",
    "\n",
    "        return image, mask"
   ]
  },
  {
   "cell_type": "code",
   "execution_count": 401,
   "metadata": {},
   "outputs": [],
   "source": [
    "transform = transforms.Compose([\n",
    "    transforms.ToTensor(),\n",
    "])"
   ]
  },
  {
   "cell_type": "code",
   "execution_count": 402,
   "metadata": {},
   "outputs": [],
   "source": [
    "train_img_dir = './train/images/'\n",
    "train_mask_dir = './train/masks/'\n",
    "train_ids = pd.read_csv(\"./train/train.csv\", usecols=[0]).id.values.tolist()"
   ]
  },
  {
   "cell_type": "code",
   "execution_count": 403,
   "metadata": {},
   "outputs": [],
   "source": [
    "dataset = CustomDataset(train_ids, train_img_dir, train_mask_dir, transform=transform)\n",
    "train_loader = DataLoader(dataset, batch_size=32, shuffle=True)"
   ]
  },
  {
   "cell_type": "code",
   "execution_count": 404,
   "metadata": {},
   "outputs": [],
   "source": [
    "lr = 0.001\n",
    "num_epochs = 30"
   ]
  },
  {
   "cell_type": "code",
   "execution_count": 405,
   "metadata": {},
   "outputs": [],
   "source": [
    "model = UNet()\n",
    "optimizer = Adam(model.parameters(), lr=lr)\n",
    "criterion = BCELoss()"
   ]
  },
  {
   "cell_type": "code",
   "execution_count": 406,
   "metadata": {},
   "outputs": [
    {
     "name": "stdout",
     "output_type": "stream",
     "text": [
      "cpu\n"
     ]
    }
   ],
   "source": [
    "device = torch.device('cuda' if torch.cuda.is_available() else 'cpu')\n",
    "model.to(device)\n",
    "print(device)"
   ]
  },
  {
   "cell_type": "markdown",
   "metadata": {},
   "source": [
    "# Training"
   ]
  },
  {
   "cell_type": "code",
   "execution_count": 407,
   "metadata": {},
   "outputs": [
    {
     "name": "stderr",
     "output_type": "stream",
     "text": [
      "/opt/homebrew/lib/python3.11/site-packages/torch/optim/lr_scheduler.py:28: UserWarning: The verbose parameter is deprecated. Please use get_last_lr() to access the learning rate.\n",
      "  warnings.warn(\"The verbose parameter is deprecated. Please use get_last_lr() \"\n"
     ]
    },
    {
     "name": "stdout",
     "output_type": "stream",
     "text": [
      "Epoch 1/20, Training Loss: 0.4697377383708954, Validation Loss: 0.5601604955196381\n",
      "Epoch 2/20, Training Loss: 0.4372270703315735, Validation Loss: 0.5466133534908295\n",
      "Epoch 3/20, Training Loss: 0.5846647024154663, Validation Loss: 0.5362098984718323\n",
      "Epoch 4/20, Training Loss: 0.3709520995616913, Validation Loss: 1.3747722113132477\n",
      "Epoch 5/20, Training Loss: 0.6054136157035828, Validation Loss: 0.5636618790626526\n",
      "Epoch 6/20, Training Loss: 0.4160468578338623, Validation Loss: 0.5522487688064576\n",
      "Epoch 7/20, Training Loss: 0.5078461170196533, Validation Loss: 0.5341441645622254\n",
      "Epoch 8/20, Training Loss: 0.6110735535621643, Validation Loss: 0.5120438380241394\n",
      "Epoch 9/20, Training Loss: 0.460832804441452, Validation Loss: 0.49637686347961424\n",
      "Epoch 10/20, Training Loss: 0.42020443081855774, Validation Loss: 0.47280767583847044\n",
      "Epoch 11/20, Training Loss: 0.5238234400749207, Validation Loss: 0.4891073977947235\n",
      "Epoch 12/20, Training Loss: 0.4869197607040405, Validation Loss: 0.44128456568717955\n",
      "Epoch 13/20, Training Loss: 0.46907931566238403, Validation Loss: 0.44903508853912355\n",
      "Epoch 14/20, Training Loss: 0.4026905596256256, Validation Loss: 0.4317564980983734\n",
      "Epoch 15/20, Training Loss: 0.3334040343761444, Validation Loss: 0.4369117431640625\n",
      "Epoch 16/20, Training Loss: 0.4061086177825928, Validation Loss: 0.4457516338825226\n",
      "Epoch 17/20, Training Loss: 0.4528169333934784, Validation Loss: 0.42250869345664976\n",
      "Epoch 18/20, Training Loss: 0.35639119148254395, Validation Loss: 0.42729498553276063\n",
      "Epoch 19/20, Training Loss: 0.39004477858543396, Validation Loss: 0.43525812816619874\n",
      "Epoch 20/20, Training Loss: 0.3745219111442566, Validation Loss: 0.44199871516227723\n"
     ]
    }
   ],
   "source": [
    "lr_scheduler = ReduceLROnPlateau(optimizer, mode='min', patience=5, factor=0.5, verbose=True)\n",
    "\n",
    "early_stopping_counter = 0\n",
    "early_stopping_patience = 10\n",
    "best_validation_loss = np.inf\n",
    "\n",
    "for epoch in range(num_epochs):\n",
    "    model.train()  # Set the model to training mode\n",
    "    for images, masks in train_loader:\n",
    "        images, masks = images.to(device), masks.to(device)\n",
    "\n",
    "        # Forward pass\n",
    "        outputs = model(images)\n",
    "        loss = criterion(outputs, masks)\n",
    "\n",
    "        # Backward pass and optimization\n",
    "        optimizer.zero_grad()\n",
    "        loss.backward()\n",
    "        optimizer.step()\n",
    "\n",
    "    # Validate the model\n",
    "    model.eval()  # Set the model to evaluation mode\n",
    "    validation_loss = 0.0\n",
    "    with torch.no_grad():\n",
    "        for val_images, val_masks in train_loader: # We will use the same dataset as the training for ease of use\n",
    "            val_images, val_masks = val_images.to(device), val_masks.to(device)\n",
    "            val_outputs = model(val_images)\n",
    "            val_loss = criterion(val_outputs, val_masks)\n",
    "            validation_loss += val_loss.item()\n",
    "\n",
    "    # Calculate average validation loss\n",
    "    validation_loss /= len(train_loader)\n",
    "\n",
    "    # Update learning rate based on validation loss\n",
    "    lr_scheduler.step(validation_loss)\n",
    "\n",
    "    print(f\"Epoch {epoch + 1}/{num_epochs}, Training Loss: {loss.item()}, Validation Loss: {validation_loss}\")\n",
    "\n",
    "    # Check for improvement in validation loss\n",
    "    if validation_loss < best_validation_loss:\n",
    "        best_validation_loss = validation_loss\n",
    "        early_stopping_counter = 0\n",
    "        # Save the model weights\n",
    "        torch.save(model.state_dict(), \"model/bestModel.pth\")\n",
    "    else:\n",
    "        early_stopping_counter += 1\n",
    "\n",
    "    # Check for early stopping\n",
    "    if early_stopping_counter >= early_stopping_patience:\n",
    "        print(\"Early stopping: Validation loss has not improved for {} consecutive epochs.\".format(early_stopping_patience))\n",
    "        break\n",
    "\n",
    "\n",
    "# Save the trained model\n",
    "torch.save(model.state_dict(), \"model/bestModel.pth\")"
   ]
  },
  {
   "cell_type": "markdown",
   "metadata": {},
   "source": [
    "To continue further training"
   ]
  },
  {
   "cell_type": "code",
   "execution_count": 535,
   "metadata": {},
   "outputs": [
    {
     "name": "stdout",
     "output_type": "stream",
     "text": [
      "Epoch 1/20, Training Loss: 0.22758586704730988, Validation Loss: 0.2506310216188431\n",
      "Epoch 2/20, Training Loss: 0.1940423548221588, Validation Loss: 0.23880202227830888\n",
      "Epoch 3/20, Training Loss: 0.24841967225074768, Validation Loss: 0.23452661687135695\n",
      "Epoch 4/20, Training Loss: 0.27450236678123474, Validation Loss: 0.24657468032836913\n"
     ]
    },
    {
     "ename": "KeyboardInterrupt",
     "evalue": "",
     "output_type": "error",
     "traceback": [
      "\u001b[0;31m---------------------------------------------------------------------------\u001b[0m",
      "\u001b[0;31mKeyboardInterrupt\u001b[0m                         Traceback (most recent call last)",
      "Cell \u001b[0;32mIn[535], line 20\u001b[0m\n\u001b[1;32m     18\u001b[0m     \u001b[38;5;66;03m# Backward pass and optimization\u001b[39;00m\n\u001b[1;32m     19\u001b[0m     optimizer\u001b[38;5;241m.\u001b[39mzero_grad()\n\u001b[0;32m---> 20\u001b[0m     \u001b[43mloss\u001b[49m\u001b[38;5;241;43m.\u001b[39;49m\u001b[43mbackward\u001b[49m\u001b[43m(\u001b[49m\u001b[43m)\u001b[49m\n\u001b[1;32m     21\u001b[0m     optimizer\u001b[38;5;241m.\u001b[39mstep()\n\u001b[1;32m     23\u001b[0m \u001b[38;5;66;03m# Validate the model\u001b[39;00m\n",
      "File \u001b[0;32m/opt/homebrew/lib/python3.11/site-packages/torch/_tensor.py:522\u001b[0m, in \u001b[0;36mTensor.backward\u001b[0;34m(self, gradient, retain_graph, create_graph, inputs)\u001b[0m\n\u001b[1;32m    512\u001b[0m \u001b[38;5;28;01mif\u001b[39;00m has_torch_function_unary(\u001b[38;5;28mself\u001b[39m):\n\u001b[1;32m    513\u001b[0m     \u001b[38;5;28;01mreturn\u001b[39;00m handle_torch_function(\n\u001b[1;32m    514\u001b[0m         Tensor\u001b[38;5;241m.\u001b[39mbackward,\n\u001b[1;32m    515\u001b[0m         (\u001b[38;5;28mself\u001b[39m,),\n\u001b[0;32m   (...)\u001b[0m\n\u001b[1;32m    520\u001b[0m         inputs\u001b[38;5;241m=\u001b[39minputs,\n\u001b[1;32m    521\u001b[0m     )\n\u001b[0;32m--> 522\u001b[0m \u001b[43mtorch\u001b[49m\u001b[38;5;241;43m.\u001b[39;49m\u001b[43mautograd\u001b[49m\u001b[38;5;241;43m.\u001b[39;49m\u001b[43mbackward\u001b[49m\u001b[43m(\u001b[49m\n\u001b[1;32m    523\u001b[0m \u001b[43m    \u001b[49m\u001b[38;5;28;43mself\u001b[39;49m\u001b[43m,\u001b[49m\u001b[43m \u001b[49m\u001b[43mgradient\u001b[49m\u001b[43m,\u001b[49m\u001b[43m \u001b[49m\u001b[43mretain_graph\u001b[49m\u001b[43m,\u001b[49m\u001b[43m \u001b[49m\u001b[43mcreate_graph\u001b[49m\u001b[43m,\u001b[49m\u001b[43m \u001b[49m\u001b[43minputs\u001b[49m\u001b[38;5;241;43m=\u001b[39;49m\u001b[43minputs\u001b[49m\n\u001b[1;32m    524\u001b[0m \u001b[43m\u001b[49m\u001b[43m)\u001b[49m\n",
      "File \u001b[0;32m/opt/homebrew/lib/python3.11/site-packages/torch/autograd/__init__.py:267\u001b[0m, in \u001b[0;36mbackward\u001b[0;34m(tensors, grad_tensors, retain_graph, create_graph, grad_variables, inputs)\u001b[0m\n\u001b[1;32m    262\u001b[0m     retain_graph \u001b[38;5;241m=\u001b[39m create_graph\n\u001b[1;32m    264\u001b[0m \u001b[38;5;66;03m# The reason we repeat the same comment below is that\u001b[39;00m\n\u001b[1;32m    265\u001b[0m \u001b[38;5;66;03m# some Python versions print out the first line of a multi-line function\u001b[39;00m\n\u001b[1;32m    266\u001b[0m \u001b[38;5;66;03m# calls in the traceback and some print out the last line\u001b[39;00m\n\u001b[0;32m--> 267\u001b[0m \u001b[43m_engine_run_backward\u001b[49m\u001b[43m(\u001b[49m\n\u001b[1;32m    268\u001b[0m \u001b[43m    \u001b[49m\u001b[43mtensors\u001b[49m\u001b[43m,\u001b[49m\n\u001b[1;32m    269\u001b[0m \u001b[43m    \u001b[49m\u001b[43mgrad_tensors_\u001b[49m\u001b[43m,\u001b[49m\n\u001b[1;32m    270\u001b[0m \u001b[43m    \u001b[49m\u001b[43mretain_graph\u001b[49m\u001b[43m,\u001b[49m\n\u001b[1;32m    271\u001b[0m \u001b[43m    \u001b[49m\u001b[43mcreate_graph\u001b[49m\u001b[43m,\u001b[49m\n\u001b[1;32m    272\u001b[0m \u001b[43m    \u001b[49m\u001b[43minputs\u001b[49m\u001b[43m,\u001b[49m\n\u001b[1;32m    273\u001b[0m \u001b[43m    \u001b[49m\u001b[43mallow_unreachable\u001b[49m\u001b[38;5;241;43m=\u001b[39;49m\u001b[38;5;28;43;01mTrue\u001b[39;49;00m\u001b[43m,\u001b[49m\n\u001b[1;32m    274\u001b[0m \u001b[43m    \u001b[49m\u001b[43maccumulate_grad\u001b[49m\u001b[38;5;241;43m=\u001b[39;49m\u001b[38;5;28;43;01mTrue\u001b[39;49;00m\u001b[43m,\u001b[49m\n\u001b[1;32m    275\u001b[0m \u001b[43m\u001b[49m\u001b[43m)\u001b[49m\n",
      "File \u001b[0;32m/opt/homebrew/lib/python3.11/site-packages/torch/autograd/graph.py:690\u001b[0m, in \u001b[0;36m_engine_run_backward\u001b[0;34m(t_outputs, *args, **kwargs)\u001b[0m\n\u001b[1;32m    688\u001b[0m     unregister_hooks \u001b[38;5;241m=\u001b[39m _register_logging_hooks_on_whole_graph(t_outputs)\n\u001b[1;32m    689\u001b[0m \u001b[38;5;28;01mtry\u001b[39;00m:\n\u001b[0;32m--> 690\u001b[0m     \u001b[38;5;28;01mreturn\u001b[39;00m \u001b[43mVariable\u001b[49m\u001b[38;5;241;43m.\u001b[39;49m\u001b[43m_execution_engine\u001b[49m\u001b[38;5;241;43m.\u001b[39;49m\u001b[43mrun_backward\u001b[49m\u001b[43m(\u001b[49m\u001b[43m  \u001b[49m\u001b[38;5;66;43;03m# Calls into the C++ engine to run the backward pass\u001b[39;49;00m\n\u001b[1;32m    691\u001b[0m \u001b[43m        \u001b[49m\u001b[43mt_outputs\u001b[49m\u001b[43m,\u001b[49m\u001b[43m \u001b[49m\u001b[38;5;241;43m*\u001b[39;49m\u001b[43margs\u001b[49m\u001b[43m,\u001b[49m\u001b[43m \u001b[49m\u001b[38;5;241;43m*\u001b[39;49m\u001b[38;5;241;43m*\u001b[39;49m\u001b[43mkwargs\u001b[49m\n\u001b[1;32m    692\u001b[0m \u001b[43m    \u001b[49m\u001b[43m)\u001b[49m  \u001b[38;5;66;03m# Calls into the C++ engine to run the backward pass\u001b[39;00m\n\u001b[1;32m    693\u001b[0m \u001b[38;5;28;01mfinally\u001b[39;00m:\n\u001b[1;32m    694\u001b[0m     \u001b[38;5;28;01mif\u001b[39;00m attach_logging_hooks:\n",
      "\u001b[0;31mKeyboardInterrupt\u001b[0m: "
     ]
    }
   ],
   "source": [
    "model.load_state_dict(torch.load(\"model/bestModel.pth\"))\n",
    "\n",
    "lr_scheduler = ReduceLROnPlateau(optimizer, mode='min', patience=5, factor=0.5, verbose=True)\n",
    "\n",
    "early_stopping_counter = 0\n",
    "early_stopping_patience = 10\n",
    "best_validation_loss = np.inf\n",
    "\n",
    "for epoch in range(num_epochs):\n",
    "    model.train()  # Set the model to training mode\n",
    "    for images, masks in train_loader:\n",
    "        images, masks = images.to(device), masks.to(device)\n",
    "\n",
    "        # Forward pass\n",
    "        outputs = model(images)\n",
    "        loss = criterion(outputs, masks)\n",
    "\n",
    "        # Backward pass and optimization\n",
    "        optimizer.zero_grad()\n",
    "        loss.backward()\n",
    "        optimizer.step()\n",
    "\n",
    "    # Validate the model\n",
    "    model.eval()  # Set the model to evaluation mode\n",
    "    validation_loss = 0.0\n",
    "    with torch.no_grad():\n",
    "        for val_images, val_masks in train_loader: # We will use the same dataset as the training for ease of use\n",
    "            val_images, val_masks = val_images.to(device), val_masks.to(device)\n",
    "            val_outputs = model(val_images)\n",
    "            val_loss = criterion(val_outputs, val_masks)\n",
    "            validation_loss += val_loss.item()\n",
    "\n",
    "    # Calculate average validation loss\n",
    "    validation_loss /= len(train_loader)\n",
    "\n",
    "    # Update learning rate based on validation loss\n",
    "    lr_scheduler.step(validation_loss)\n",
    "\n",
    "    print(f\"Epoch {epoch + 1}/{num_epochs}, Training Loss: {loss.item()}, Validation Loss: {validation_loss}\")\n",
    "\n",
    "    # Check for improvement in validation loss\n",
    "    if validation_loss < best_validation_loss:\n",
    "        best_validation_loss = validation_loss\n",
    "        early_stopping_counter = 0\n",
    "        # Save the model weights\n",
    "        torch.save(model.state_dict(), \"model/bestModel.pth\")\n",
    "    else:\n",
    "        early_stopping_counter += 1\n",
    "\n",
    "    # Check for early stopping\n",
    "    if early_stopping_counter >= early_stopping_patience:\n",
    "        print(\"Early stopping: Validation loss has not improved for {} consecutive epochs.\".format(early_stopping_patience))\n",
    "        break\n",
    "\n",
    "\n",
    "# Save the trained model\n",
    "torch.save(model.state_dict(), \"model/bestModel.pth\")"
   ]
  },
  {
   "cell_type": "markdown",
   "metadata": {},
   "source": [
    "# Eval"
   ]
  },
  {
   "cell_type": "code",
   "execution_count": 481,
   "metadata": {},
   "outputs": [
    {
     "data": {
      "text/plain": [
       "UNet(\n",
       "  (conv11): Conv2d(1, 16, kernel_size=(3, 3), stride=(1, 1), padding=same)\n",
       "  (conv12): Conv2d(16, 16, kernel_size=(3, 3), stride=(1, 1), padding=same)\n",
       "  (pool1): MaxPool2d(kernel_size=2, stride=2, padding=0, dilation=1, ceil_mode=False)\n",
       "  (conv21): Conv2d(16, 32, kernel_size=(3, 3), stride=(1, 1), padding=same)\n",
       "  (conv22): Conv2d(32, 32, kernel_size=(3, 3), stride=(1, 1), padding=same)\n",
       "  (pool2): MaxPool2d(kernel_size=2, stride=2, padding=0, dilation=1, ceil_mode=False)\n",
       "  (conv31): Conv2d(32, 64, kernel_size=(3, 3), stride=(1, 1), padding=same)\n",
       "  (conv32): Conv2d(64, 64, kernel_size=(3, 3), stride=(1, 1), padding=same)\n",
       "  (pool3): MaxPool2d(kernel_size=2, stride=2, padding=0, dilation=1, ceil_mode=False)\n",
       "  (conv41): Conv2d(64, 128, kernel_size=(3, 3), stride=(1, 1), padding=same)\n",
       "  (conv42): Conv2d(128, 128, kernel_size=(3, 3), stride=(1, 1), padding=same)\n",
       "  (pool4): MaxPool2d(kernel_size=2, stride=2, padding=0, dilation=1, ceil_mode=False)\n",
       "  (convM1): Conv2d(128, 256, kernel_size=(3, 3), stride=(1, 1), padding=same)\n",
       "  (convM2): Conv2d(256, 256, kernel_size=(3, 3), stride=(1, 1), padding=same)\n",
       "  (upconv5): ConvTranspose2d(256, 128, kernel_size=(2, 2), stride=(2, 2))\n",
       "  (conv51): Conv2d(256, 128, kernel_size=(3, 3), stride=(1, 1), padding=same)\n",
       "  (conv52): Conv2d(128, 128, kernel_size=(3, 3), stride=(1, 1), padding=same)\n",
       "  (upconv6): ConvTranspose2d(128, 64, kernel_size=(2, 2), stride=(2, 2))\n",
       "  (conv61): Conv2d(128, 64, kernel_size=(3, 3), stride=(1, 1), padding=same)\n",
       "  (conv62): Conv2d(64, 64, kernel_size=(3, 3), stride=(1, 1), padding=same)\n",
       "  (upconv7): ConvTranspose2d(64, 32, kernel_size=(2, 2), stride=(2, 2))\n",
       "  (conv71): Conv2d(64, 32, kernel_size=(3, 3), stride=(1, 1), padding=same)\n",
       "  (conv72): Conv2d(32, 32, kernel_size=(3, 3), stride=(1, 1), padding=same)\n",
       "  (upconv8): ConvTranspose2d(32, 16, kernel_size=(2, 2), stride=(2, 2))\n",
       "  (conv81): Conv2d(32, 16, kernel_size=(3, 3), stride=(1, 1), padding=same)\n",
       "  (conv82): Conv2d(16, 16, kernel_size=(3, 3), stride=(1, 1), padding=same)\n",
       "  (output): Conv2d(16, 1, kernel_size=(1, 1), stride=(1, 1), padding=same)\n",
       ")"
      ]
     },
     "execution_count": 481,
     "metadata": {},
     "output_type": "execute_result"
    }
   ],
   "source": [
    "model.load_state_dict(torch.load(\"model/bestModel.pth\"))\n",
    "model.eval()"
   ]
  },
  {
   "cell_type": "code",
   "execution_count": 534,
   "metadata": {},
   "outputs": [
    {
     "data": {
      "image/png": "[encoded data removed]",
      "text/plain": [
       "<Figure size 1000x500 with 3 Axes>"
      ]
     },
     "metadata": {},
     "output_type": "display_data"
    }
   ],
   "source": [
    "# Choose picture at random \n",
    "image_number = randint(0, len(train_ids))\n",
    "image = train_ids[image_number]\n",
    "\n",
    "image_path = \"train/images/\"+image+\".png\"\n",
    "image = Image.open(image_path).convert(\"L\")  # Convert to grayscale if needed\n",
    "transform = transforms.Compose([\n",
    "    transforms.ToTensor(),\n",
    "])\n",
    "input_image = transform(image.resize((128, 128), Image.BILINEAR)).unsqueeze(0)  # Add batch dimension\n",
    "\n",
    "# Forward pass to get predictions\n",
    "with torch.no_grad():\n",
    "    predictions = model(input_image)\n",
    "\n",
    "# Convert predictions to a binary mask (assuming a threshold of 0.5)\n",
    "binary_predictions = (predictions > 0.5).float()\n",
    "\n",
    "# Convert tensors to numpy arrays for visualization\n",
    "input_image_np = input_image.squeeze().numpy()\n",
    "binary_predictions_np = binary_predictions.squeeze().numpy()\n",
    "\n",
    "# Plot the original image, ground truth mask, and predicted mask\n",
    "plt.figure(figsize=(10, 5))\n",
    "\n",
    "plt.subplot(1, 3, 1)\n",
    "plt.title(\"Original Image\")\n",
    "plt.imshow(input_image_np, cmap=\"gray\")\n",
    "plt.axis(\"off\")\n",
    "\n",
    "# Ground truth visualization\n",
    "image = train_ids[image_number]\n",
    "ground_truth_mask_path = \"train/masks/\"+image+\".png\"\n",
    "ground_truth_mask = Image.open(ground_truth_mask_path).convert(\"L\")\n",
    "ground_truth_mask_np = transform(ground_truth_mask.resize((128, 128), Image.BILINEAR)).numpy()\n",
    "plt.subplot(1, 3, 2)\n",
    "plt.title(\"Ground Truth Mask\")\n",
    "plt.imshow(ground_truth_mask_np[0], cmap=\"gray\")\n",
    "plt.axis(\"off\")\n",
    "\n",
    "plt.subplot(1, 3, 3)\n",
    "plt.title(\"Predicted Mask\")\n",
    "plt.imshow(binary_predictions_np, cmap=\"gray\")\n",
    "plt.axis(\"off\")\n",
    "\n",
    "plt.show()"
   ]
  }
 ],
 "metadata": {
  "kernelspec": {
   "display_name": "Python 3",
   "language": "python",
   "name": "python3"
  },
  "language_info": {
   "codemirror_mode": {
    "name": "ipython",
    "version": 3
   },
   "file_extension": ".py",
   "mimetype": "text/x-python",
   "name": "python",
   "nbconvert_exporter": "python",
   "pygments_lexer": "ipython3",
   "version": "3.11.6"
  }
 },
 "nbformat": 4,
 "nbformat_minor": 2
}
